{
 "cells": [
  {
   "cell_type": "code",
   "execution_count": 1,
   "metadata": {},
   "outputs": [],
   "source": [
    "import random\n",
    "import math\n",
    "import csv"
   ]
  },
  {
   "cell_type": "code",
   "execution_count": 2,
   "metadata": {},
   "outputs": [],
   "source": [
    "def generate_pairs(team_list, pairs):\n",
    "    \n",
    "    nb_pairs = math.floor(len(team_list) / 2)\n",
    "    \n",
    "    for pair in range(nb_pairs):\n",
    "        selected_pair = random.sample(team_list, 2)\n",
    "        pairs.append(selected_pair)\n",
    "        \n",
    "        for name in selected_pair: \n",
    "            del team_list[team_list.index(name)]\n",
    "    \n",
    "    if len(team_list) > 0:\n",
    "        group_of_three = pairs[0]\n",
    "        del pairs[0]\n",
    "        group_of_three.append(team_list[0])\n",
    "        pairs.append(group_of_three)\n",
    "    \n",
    "    list_all_pairs = []\n",
    "    \n",
    "    with open('C:\\\\Users\\\\nystrom jakob\\\\Documents\\\\012_Coursework\\\\006 Own Python projects\\\\pair_history.csv', 'r', newline='') as history_csv:\n",
    "        pair_reader = csv.reader(history_csv, delimiter=',')\n",
    "        for row in history_csv:\n",
    "            for element in row:\n",
    "                list_all_pairs.append(element)\n",
    "    \n",
    "    for pair in pairs:\n",
    "        if pair in list_all_pairs:\n",
    "            print('These people have already been friends. Let us generate another list')\n",
    "            break\n",
    "        else:\n",
    "            continue\n",
    "    \n",
    "    return pairs"
   ]
  },
  {
   "cell_type": "code",
   "execution_count": 3,
   "metadata": {},
   "outputs": [],
   "source": [
    "def update_historical(pairs):\n",
    "    \n",
    "    with open('C:\\\\Users\\\\nystrom jakob\\\\Documents\\\\012_Coursework\\\\006 Own Python projects\\\\pair_history.csv', 'a', newline='') as history_csv:\n",
    "        pair_writer = csv.writer(history_csv, delimiter=',', quotechar='\"')\n",
    "        pair_writer.writerow(pairs) "
   ]
  },
  {
   "cell_type": "code",
   "execution_count": 4,
   "metadata": {},
   "outputs": [
    {
     "data": {
      "text/plain": [
       "[['Malin', 'Rohan'],\n",
       " ['Petter', 'Daniel'],\n",
       " ['Joao', 'Shane'],\n",
       " ['Marcus', 'Jakob'],\n",
       " ['Ida', 'August'],\n",
       " ['Henriette', 'Gitte']]"
      ]
     },
     "execution_count": 4,
     "metadata": {},
     "output_type": "execute_result"
    }
   ],
   "source": [
    "#Generate pairs based on all people in the team\n",
    "\n",
    "team_list = ['Daniel', 'Jakob', 'Petter', 'Shane', 'Joao', 'Henriette', \n",
    "             'Marcus', 'Rohan', 'Ida', 'Malin', 'Gitte', 'August']\n",
    "\n",
    "pairs = []\n",
    "\n",
    "generate_pairs(team_list, pairs)"
   ]
  },
  {
   "cell_type": "code",
   "execution_count": 37,
   "metadata": {},
   "outputs": [],
   "source": [
    "#Open and write to file instead\n",
    "\n",
    "historical_pairs = []\n",
    "\n",
    "update_historical(pairs)"
   ]
  },
  {
   "cell_type": "code",
   "execution_count": null,
   "metadata": {},
   "outputs": [],
   "source": []
  },
  {
   "cell_type": "code",
   "execution_count": null,
   "metadata": {},
   "outputs": [],
   "source": []
  },
  {
   "cell_type": "code",
   "execution_count": null,
   "metadata": {},
   "outputs": [],
   "source": []
  }
 ],
 "metadata": {
  "kernelspec": {
   "display_name": "Python 3",
   "language": "python",
   "name": "python3"
  },
  "language_info": {
   "codemirror_mode": {
    "name": "ipython",
    "version": 3
   },
   "file_extension": ".py",
   "mimetype": "text/x-python",
   "name": "python",
   "nbconvert_exporter": "python",
   "pygments_lexer": "ipython3",
   "version": "3.8.5"
  }
 },
 "nbformat": 4,
 "nbformat_minor": 4
}
